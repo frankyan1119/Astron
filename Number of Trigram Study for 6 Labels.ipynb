{
 "cells": [
  {
   "cell_type": "code",
   "execution_count": 4,
   "metadata": {},
   "outputs": [],
   "source": [
    "import pandas as pd\n",
    "import numpy as np\n",
    "from sklearn.model_selection import train_test_split\n",
    "from datetime import datetime\n",
    "from datetime import timedelta"
   ]
  },
  {
   "cell_type": "code",
   "execution_count": 5,
   "metadata": {},
   "outputs": [],
   "source": [
    "df_master = pd.read_json('News_Category_Dataset_v2.json', lines=True)"
   ]
  },
  {
   "cell_type": "code",
   "execution_count": 6,
   "metadata": {},
   "outputs": [
    {
     "data": {
      "text/html": [
       "<div>\n",
       "<style scoped>\n",
       "    .dataframe tbody tr th:only-of-type {\n",
       "        vertical-align: middle;\n",
       "    }\n",
       "\n",
       "    .dataframe tbody tr th {\n",
       "        vertical-align: top;\n",
       "    }\n",
       "\n",
       "    .dataframe thead th {\n",
       "        text-align: right;\n",
       "    }\n",
       "</style>\n",
       "<table border=\"1\" class=\"dataframe\">\n",
       "  <thead>\n",
       "    <tr style=\"text-align: right;\">\n",
       "      <th></th>\n",
       "      <th>authors</th>\n",
       "      <th>category</th>\n",
       "      <th>date</th>\n",
       "      <th>headline</th>\n",
       "      <th>link</th>\n",
       "      <th>short_description</th>\n",
       "    </tr>\n",
       "  </thead>\n",
       "  <tbody>\n",
       "    <tr>\n",
       "      <th>0</th>\n",
       "      <td>Melissa Jeltsen</td>\n",
       "      <td>CRIME</td>\n",
       "      <td>2018-05-26</td>\n",
       "      <td>There Were 2 Mass Shootings In Texas Last Week...</td>\n",
       "      <td>https://www.huffingtonpost.com/entry/texas-ama...</td>\n",
       "      <td>She left her husband. He killed their children...</td>\n",
       "    </tr>\n",
       "    <tr>\n",
       "      <th>1</th>\n",
       "      <td>Andy McDonald</td>\n",
       "      <td>ENTERTAINMENT</td>\n",
       "      <td>2018-05-26</td>\n",
       "      <td>Will Smith Joins Diplo And Nicky Jam For The 2...</td>\n",
       "      <td>https://www.huffingtonpost.com/entry/will-smit...</td>\n",
       "      <td>Of course it has a song.</td>\n",
       "    </tr>\n",
       "    <tr>\n",
       "      <th>2</th>\n",
       "      <td>Ron Dicker</td>\n",
       "      <td>ENTERTAINMENT</td>\n",
       "      <td>2018-05-26</td>\n",
       "      <td>Hugh Grant Marries For The First Time At Age 57</td>\n",
       "      <td>https://www.huffingtonpost.com/entry/hugh-gran...</td>\n",
       "      <td>The actor and his longtime girlfriend Anna Ebe...</td>\n",
       "    </tr>\n",
       "    <tr>\n",
       "      <th>3</th>\n",
       "      <td>Ron Dicker</td>\n",
       "      <td>ENTERTAINMENT</td>\n",
       "      <td>2018-05-26</td>\n",
       "      <td>Jim Carrey Blasts 'Castrato' Adam Schiff And D...</td>\n",
       "      <td>https://www.huffingtonpost.com/entry/jim-carre...</td>\n",
       "      <td>The actor gives Dems an ass-kicking for not fi...</td>\n",
       "    </tr>\n",
       "    <tr>\n",
       "      <th>4</th>\n",
       "      <td>Ron Dicker</td>\n",
       "      <td>ENTERTAINMENT</td>\n",
       "      <td>2018-05-26</td>\n",
       "      <td>Julianna Margulies Uses Donald Trump Poop Bags...</td>\n",
       "      <td>https://www.huffingtonpost.com/entry/julianna-...</td>\n",
       "      <td>The \"Dietland\" actress said using the bags is ...</td>\n",
       "    </tr>\n",
       "  </tbody>\n",
       "</table>\n",
       "</div>"
      ],
      "text/plain": [
       "           authors       category       date  \\\n",
       "0  Melissa Jeltsen          CRIME 2018-05-26   \n",
       "1    Andy McDonald  ENTERTAINMENT 2018-05-26   \n",
       "2       Ron Dicker  ENTERTAINMENT 2018-05-26   \n",
       "3       Ron Dicker  ENTERTAINMENT 2018-05-26   \n",
       "4       Ron Dicker  ENTERTAINMENT 2018-05-26   \n",
       "\n",
       "                                            headline  \\\n",
       "0  There Were 2 Mass Shootings In Texas Last Week...   \n",
       "1  Will Smith Joins Diplo And Nicky Jam For The 2...   \n",
       "2    Hugh Grant Marries For The First Time At Age 57   \n",
       "3  Jim Carrey Blasts 'Castrato' Adam Schiff And D...   \n",
       "4  Julianna Margulies Uses Donald Trump Poop Bags...   \n",
       "\n",
       "                                                link  \\\n",
       "0  https://www.huffingtonpost.com/entry/texas-ama...   \n",
       "1  https://www.huffingtonpost.com/entry/will-smit...   \n",
       "2  https://www.huffingtonpost.com/entry/hugh-gran...   \n",
       "3  https://www.huffingtonpost.com/entry/jim-carre...   \n",
       "4  https://www.huffingtonpost.com/entry/julianna-...   \n",
       "\n",
       "                                   short_description  \n",
       "0  She left her husband. He killed their children...  \n",
       "1                           Of course it has a song.  \n",
       "2  The actor and his longtime girlfriend Anna Ebe...  \n",
       "3  The actor gives Dems an ass-kicking for not fi...  \n",
       "4  The \"Dietland\" actress said using the bags is ...  "
      ]
     },
     "execution_count": 6,
     "metadata": {},
     "output_type": "execute_result"
    }
   ],
   "source": [
    "df_master.head()"
   ]
  },
  {
   "cell_type": "code",
   "execution_count": 7,
   "metadata": {},
   "outputs": [
    {
     "data": {
      "text/plain": [
       "(200853, 6)"
      ]
     },
     "execution_count": 7,
     "metadata": {},
     "output_type": "execute_result"
    }
   ],
   "source": [
    "df_master.shape"
   ]
  },
  {
   "cell_type": "code",
   "execution_count": 8,
   "metadata": {},
   "outputs": [],
   "source": [
    "import collections"
   ]
  },
  {
   "cell_type": "code",
   "execution_count": 9,
   "metadata": {},
   "outputs": [
    {
     "name": "stdout",
     "output_type": "stream",
     "text": [
      "Requirement already satisfied: spacy in /home/ec2-user/anaconda3/envs/python3/lib/python3.6/site-packages (2.1.6)\n",
      "Requirement already satisfied: requests<3.0.0,>=2.13.0 in /home/ec2-user/anaconda3/envs/python3/lib/python3.6/site-packages (from spacy) (2.20.0)\n",
      "Requirement already satisfied: plac<1.0.0,>=0.9.6 in /home/ec2-user/anaconda3/envs/python3/lib/python3.6/site-packages (from spacy) (0.9.6)\n",
      "Requirement already satisfied: thinc<7.1.0,>=7.0.8 in /home/ec2-user/anaconda3/envs/python3/lib/python3.6/site-packages (from spacy) (7.0.8)\n",
      "Requirement already satisfied: numpy>=1.15.0 in /home/ec2-user/anaconda3/envs/python3/lib/python3.6/site-packages (from spacy) (1.15.4)\n",
      "Requirement already satisfied: cymem<2.1.0,>=2.0.2 in /home/ec2-user/anaconda3/envs/python3/lib/python3.6/site-packages (from spacy) (2.0.2)\n",
      "Requirement already satisfied: blis<0.3.0,>=0.2.2 in /home/ec2-user/anaconda3/envs/python3/lib/python3.6/site-packages (from spacy) (0.2.4)\n",
      "Requirement already satisfied: srsly<1.1.0,>=0.0.6 in /home/ec2-user/anaconda3/envs/python3/lib/python3.6/site-packages (from spacy) (0.0.7)\n",
      "Requirement already satisfied: murmurhash<1.1.0,>=0.28.0 in /home/ec2-user/anaconda3/envs/python3/lib/python3.6/site-packages (from spacy) (1.0.2)\n",
      "Requirement already satisfied: wasabi<1.1.0,>=0.2.0 in /home/ec2-user/anaconda3/envs/python3/lib/python3.6/site-packages (from spacy) (0.2.2)\n",
      "Requirement already satisfied: preshed<2.1.0,>=2.0.1 in /home/ec2-user/anaconda3/envs/python3/lib/python3.6/site-packages (from spacy) (2.0.1)\n",
      "Requirement already satisfied: certifi>=2017.4.17 in /home/ec2-user/anaconda3/envs/python3/lib/python3.6/site-packages (from requests<3.0.0,>=2.13.0->spacy) (2019.3.9)\n",
      "Requirement already satisfied: chardet<3.1.0,>=3.0.2 in /home/ec2-user/anaconda3/envs/python3/lib/python3.6/site-packages (from requests<3.0.0,>=2.13.0->spacy) (3.0.4)\n",
      "Requirement already satisfied: urllib3<1.25,>=1.21.1 in /home/ec2-user/anaconda3/envs/python3/lib/python3.6/site-packages (from requests<3.0.0,>=2.13.0->spacy) (1.23)\n",
      "Requirement already satisfied: idna<2.8,>=2.5 in /home/ec2-user/anaconda3/envs/python3/lib/python3.6/site-packages (from requests<3.0.0,>=2.13.0->spacy) (2.6)\n",
      "Requirement already satisfied: tqdm<5.0.0,>=4.10.0 in /home/ec2-user/anaconda3/envs/python3/lib/python3.6/site-packages (from thinc<7.1.0,>=7.0.8->spacy) (4.32.2)\n",
      "\u001b[33mYou are using pip version 10.0.1, however version 19.1.1 is available.\n",
      "You should consider upgrading via the 'pip install --upgrade pip' command.\u001b[0m\n",
      "Requirement already satisfied: en_core_web_sm==2.1.0 from https://github.com/explosion/spacy-models/releases/download/en_core_web_sm-2.1.0/en_core_web_sm-2.1.0.tar.gz#egg=en_core_web_sm==2.1.0 in /home/ec2-user/anaconda3/envs/python3/lib/python3.6/site-packages (2.1.0)\n",
      "\u001b[33mYou are using pip version 10.0.1, however version 19.1.1 is available.\n",
      "You should consider upgrading via the 'pip install --upgrade pip' command.\u001b[0m\n",
      "\u001b[38;5;2m✔ Download and installation successful\u001b[0m\n",
      "You can now load the model via spacy.load('en_core_web_sm')\n",
      "\u001b[38;5;2m✔ Linking successful\u001b[0m\n",
      "/home/ec2-user/anaconda3/envs/python3/lib/python3.6/site-packages/en_core_web_sm\n",
      "-->\n",
      "/home/ec2-user/anaconda3/envs/python3/lib/python3.6/site-packages/spacy/data/en\n",
      "You can now load the model via spacy.load('en')\n"
     ]
    }
   ],
   "source": [
    "!pip install spacy\n",
    "!python -m spacy download en"
   ]
  },
  {
   "cell_type": "code",
   "execution_count": 10,
   "metadata": {},
   "outputs": [],
   "source": [
    "import spacy\n",
    "from nltk.util import ngrams\n",
    "import re, collections\n",
    "\n",
    "nlp = spacy.load('en')\n",
    "\n",
    "def sent_lem(sent):\n",
    "    \n",
    "    #Remove non-alphabetical letters        \n",
    "    alpha_only = re.sub(\"[^a-zA-Z ]\", '', sent)\n",
    "    \n",
    "    #Lemmatize and remove stop words\n",
    "    sent = nlp(alpha_only.lower())\n",
    "    \n",
    "    words = [token.lemma_ for token in sent if not token.is_stop]\n",
    "    \n",
    "    #Join words separate by spaces\n",
    "    sent = ' '.join(words)\n",
    "\n",
    "    return(sent)"
   ]
  },
  {
   "cell_type": "code",
   "execution_count": 11,
   "metadata": {},
   "outputs": [],
   "source": [
    "def get_ngram(txt, n):\n",
    "    tokenized = txt.split()\n",
    "    _ngrams = ngrams(tokenized, n)\n",
    "    return(_ngrams)\n",
    "\n",
    "def potential_lfs(df, l_index, ngram, topn):\n",
    "    text = ' '.join(df[df['Label'] == labels[l_index]]['Lem Content'])\n",
    "    tokenized = text.split()\n",
    "    esBigrams = ngrams(tokenized, ngram)\n",
    "    \n",
    "    # get the frequency of each bigram in our corpus\n",
    "    esBigramFreq = collections.Counter(esBigrams)\n",
    "\n",
    "    return [list(x[0]) for x in esBigramFreq.most_common(topn)]\n",
    "    \n",
    "def get_new_lfs(df, numoflabels, ngram, topn):\n",
    "    pot_lfs = []\n",
    "    for i in range(0,numoflabels):\n",
    "        pot_lfs.append(potential_lfs(df, i, ngram, topn))\n",
    "        \n",
    "    pot_lfs_aggr = sum(pot_lfs, [])\n",
    "    \n",
    "    new_lfs = []\n",
    "    \n",
    "    for j, _class in enumerate(pot_lfs):\n",
    "        _class_new = []\n",
    "        for lf in _class:\n",
    "            if (pot_lfs_aggr.count(lf) == 1) and (not str(lf) in LF_dict) and (not str(lf) in Bad_dict) and (sum(len(c) == 1 for c in lf) != 2):\n",
    "                _class_new.append(lf)\n",
    "        new_lfs.append(_class_new)\n",
    "        \n",
    "    return new_lfs"
   ]
  },
  {
   "cell_type": "code",
   "execution_count": 12,
   "metadata": {},
   "outputs": [],
   "source": [
    "def check_overlap_helper(lst, indicator): #no conflict\n",
    "    return (indicator in lst) and (len(lst) >= 2) and (sum(k[0] == indicator[0] for k in lst) == len(lst))\n",
    "\n",
    "def check_conflict_helper(lst, indicator):\n",
    "    return (indicator in lst) and (sum(indicator[0] != k[0] for k in lst) >= 1)\n",
    "\n",
    "def check_master_overlap_helper(lst, master_indicator):\n",
    "    return (sum(master_indicator == k[0] for k in lst) >= 1) and (sum(master_indicator != k[0] for k in lst) == 0)\n",
    "\n",
    "def check_master_conflict_helper(lst, master_indicator):\n",
    "    return (sum(master_indicator == k[0] for k in lst) >= 1) and (sum(master_indicator != k[0] for k in lst) >= 1)"
   ]
  },
  {
   "cell_type": "code",
   "execution_count": 13,
   "metadata": {},
   "outputs": [],
   "source": [
    "def intersection(lst1, str2): #between a list of strings and a string\n",
    "    matches = [s for s in lst1 if s in str2]\n",
    "    return(matches)\n",
    "\n",
    "def apply_lf(df, LFs):\n",
    "#Applying Heuristics to sentences\n",
    "\n",
    "#Dictionary of LF->Indicator:\n",
    "    total_sent = df.shape[0] #total number of sentences\n",
    "\n",
    "    for j in range(0, total_sent):\n",
    "        if df.iloc[j,1] != '':\n",
    "            pass\n",
    "        LF_lst = []\n",
    "        for l, label in enumerate(LFs):\n",
    "            for i in range(0, len(label)):\n",
    "                LF = label[i]\n",
    "                LF_dict[str(LF)] = (str(l) + '_' + str(i))\n",
    "                overlap_lst = intersection(LF, df.iloc[j,0])\n",
    "                if sorted(overlap_lst) == sorted(LF):\n",
    "                    #print(LF, overlap_lst)\n",
    "                    LF_lst.append((str(l) + '_' + str(i)))\n",
    "        if(len(LF_lst) == 1):\n",
    "            df.iloc[j,2] = labels[int(LF_lst[0][0])]\n",
    "        elif(len(LF_lst) >= 1):\n",
    "            if check_overlap_helper(LF_lst, LF_lst[0]):\n",
    "                df.iloc[j,2] = labels[int(LF_lst[0][0])]\n",
    "            else:\n",
    "                df.iloc[j,2] = '' \n",
    "        else:\n",
    "            df.iloc[j,2] = ''\n",
    "        df.iloc[j,1] = LF_lst\n",
    "        \n",
    "    return df, LF_dict"
   ]
  },
  {
   "cell_type": "code",
   "execution_count": 14,
   "metadata": {},
   "outputs": [],
   "source": [
    "def update_Heur(Heur, LF_dict):\n",
    "    new_Heur = []\n",
    "    for LFs in Heur:\n",
    "        new_Heur.append([lf for lf in LFs if str(lf) in LF_dict])\n",
    "    \n",
    "    return new_Heur"
   ]
  },
  {
   "cell_type": "code",
   "execution_count": 15,
   "metadata": {},
   "outputs": [],
   "source": [
    "def create_stats(df, LFs):    \n",
    "    \n",
    "    df_stat = pd.DataFrame(columns=['i','LF','Label','Coverage','Overlap (within Cov)','Conflict (within Cov)'])\n",
    "    df_stat_master = pd.DataFrame(columns=['LF','Coverage','Overlap (within Cov)','Conflict (within Cov)'])\n",
    "\n",
    "    lookup = df['LFs']\n",
    "\n",
    "    n = 0\n",
    "    for l, label in enumerate(LFs):\n",
    "        master_label = 0\n",
    "        for i in range(0, len(label)):\n",
    "            indicator = str(l) + '_' + str(i)\n",
    "            Total_Labelled_by_LF = sum(indicator in k for k in lookup)\n",
    "            try:\n",
    "                Coverage = sum((indicator in k) for k in lookup) / df.shape[0]\n",
    "            except:\n",
    "                Coverage = 0\n",
    "            try:\n",
    "                Overlap = sum(check_overlap_helper(k, indicator) for k in lookup) / Total_Labelled_by_LF\n",
    "            except:\n",
    "                Overlap = 0\n",
    "            try:\n",
    "                Conflict = sum(check_conflict_helper(k, indicator) for k in lookup) / Total_Labelled_by_LF\n",
    "            except:\n",
    "                Conflict = 0\n",
    "            df_stat.loc[n] = [indicator, str(label[i]), labels[l], str(round(Coverage,4)), str(round(Overlap,4)), str(round(Conflict,4))] #list of multiple types\n",
    "            n += 1\n",
    "            master_label += Total_Labelled_by_LF\n",
    "        master_Cov = master_label / df.shape[0]\n",
    "        try:\n",
    "            master_Ov = sum(check_master_overlap_helper(k, str(l)) for k in lookup) / master_label\n",
    "        except:\n",
    "            master_Ov = 0\n",
    "        try:\n",
    "            master_Conf = sum(check_master_conflict_helper(k, str(l)) for k in lookup) / master_label\n",
    "        except:\n",
    "            master_Conf = 0\n",
    "        df_stat_master.loc[l] = [labels[l], str(round(master_Cov,4)), str(round(master_Ov,4)), str(round(master_Conf,4))]\n",
    "        \n",
    "    return df_stat_master, df_stat"
   ]
  },
  {
   "cell_type": "code",
   "execution_count": 30,
   "metadata": {},
   "outputs": [],
   "source": [
    "def run(df_train, df_test, num_of_labels, ngram, num_of_ngram):\n",
    "\n",
    "\n",
    "    #coverage = pd.DataFrame(columns=['Total Coverage', 'Correct Coverage'])\n",
    "\n",
    "    #Bigrams -> LFs\n",
    "    Heuristics = get_new_lfs(df_train, num_of_labels, ngram, num_of_ngram)\n",
    "\n",
    "    \n",
    "    df_test, LF_dict = apply_lf(df_test, Heuristics)\n",
    "    epoch = 0\n",
    "        \n",
    "    while(True):\n",
    "        epoch += 1\n",
    "        df_stat_master, df_stat = create_stats(df_test, Heuristics)\n",
    "\n",
    "        #Update Heuristics\n",
    "        for i, row in df_stat.iterrows():\n",
    "            #Solve >50% conflict for accuracy improvement.\n",
    "            #print(epoch, list(row))\n",
    "            if(row['Coverage'] == '0.0') or (row['Conflict (within Cov)'] >= '0.5'):\n",
    "                if row['LF'] in LF_dict:\n",
    "                    LF_dict.pop(row['LF'])\n",
    "                    Bad_dict[row['LF']] = 1\n",
    "\n",
    "        Heuristics = update_Heur(Heuristics, LF_dict)\n",
    "\n",
    "        new_lfs = get_new_lfs(df_test, num_of_labels, ngram, num_of_ngram+4)\n",
    "\n",
    "        if(sum(new_lfs, []) == []):\n",
    "            break\n",
    "\n",
    "        for i in range(0,num_of_labels):\n",
    "            Heuristics[i] += new_lfs[i]\n",
    "\n",
    "        #Run LF functions:\n",
    "\n",
    "        df_test, LF_dict = apply_lf(df_test, Heuristics)\n",
    "\n",
    "    Total = sum(len(k) >= 1 for k in df_test['Label'])\n",
    "    Cor = (df_test[df_test['Label'] == df_test['Actual Label']].shape[0])\n",
    "    #coverage.loc[n] = [Total, Cor]\n",
    "        \n",
    "    return Total, Cor, epoch"
   ]
  },
  {
   "cell_type": "code",
   "execution_count": 17,
   "metadata": {},
   "outputs": [
    {
     "data": {
      "text/plain": [
       "POLITICS          32739\n",
       "WELLNESS          17827\n",
       "ENTERTAINMENT     16058\n",
       "TRAVEL             9887\n",
       "STYLE & BEAUTY     9649\n",
       "PARENTING          8677\n",
       "HEALTHY LIVING     6694\n",
       "QUEER VOICES       6314\n",
       "FOOD & DRINK       6226\n",
       "BUSINESS           5937\n",
       "COMEDY             5175\n",
       "SPORTS             4884\n",
       "BLACK VOICES       4528\n",
       "HOME & LIVING      4195\n",
       "PARENTS            3955\n",
       "THE WORLDPOST      3664\n",
       "WEDDINGS           3651\n",
       "WOMEN              3490\n",
       "IMPACT             3459\n",
       "DIVORCE            3426\n",
       "CRIME              3405\n",
       "MEDIA              2815\n",
       "WEIRD NEWS         2670\n",
       "GREEN              2622\n",
       "WORLDPOST          2579\n",
       "RELIGION           2556\n",
       "STYLE              2254\n",
       "SCIENCE            2178\n",
       "WORLD NEWS         2177\n",
       "TASTE              2096\n",
       "TECH               2082\n",
       "MONEY              1707\n",
       "ARTS               1509\n",
       "FIFTY              1401\n",
       "GOOD NEWS          1398\n",
       "ARTS & CULTURE     1339\n",
       "ENVIRONMENT        1323\n",
       "COLLEGE            1144\n",
       "LATINO VOICES      1129\n",
       "CULTURE & ARTS     1030\n",
       "EDUCATION          1004\n",
       "Name: category, dtype: int64"
      ]
     },
     "execution_count": 17,
     "metadata": {},
     "output_type": "execute_result"
    }
   ],
   "source": [
    "df_master['category'].value_counts()"
   ]
  },
  {
   "cell_type": "code",
   "execution_count": 18,
   "metadata": {},
   "outputs": [],
   "source": [
    "df = pd.DataFrame(columns=['Label', 'Content'])\n",
    "\n",
    "df['Label'] = df_master['category']\n",
    "df['Content'] = df_master['headline'] + ' ' + df_master['short_description']"
   ]
  },
  {
   "cell_type": "code",
   "execution_count": 19,
   "metadata": {},
   "outputs": [],
   "source": [
    "label_combs = [['TASTE','WORLD NEWS','SCIENCE','STYLE','RELIGON','WORLDPSOT'],['EDUCATION','CULTURE & ARTS','ENVIRONMENT','GOOD NEWS','FIFTY','TECH']]\n",
    "#Test Run:\n",
    "#label_combs = [['WOMEN','IMPACT','DIVORCE','CRIME']]\n",
    "#Normal Run:\n",
    "#label_combs = [['WORLD NEWS','TASTE'],['TASTE','TECH'],['MONEY','ARTS'],['ARTS','FIFTY'],['FIFTY','GOOD NEWS'],['GOOD NEWS','ARTS & CULTURE'],['ARTS & CULTURE','ENVIRONMENT'],['ENVIRONMENT','COLLEGE'],['COLLEGE','LATINO VOICES'],['CULTURE & ARTS','EDUCATION']]"
   ]
  },
  {
   "cell_type": "code",
   "execution_count": 20,
   "metadata": {},
   "outputs": [],
   "source": [
    "def get_data(df, labels):\n",
    "\n",
    "    df = df[df['Label'].isin(labels)].reset_index()\n",
    "\n",
    "    #Lemmatize Content Sentences\n",
    "    df['Content'] = df['Content'].apply(sent_lem)\n",
    "\n",
    "    X = df['Content']\n",
    "    y = df['Label']\n",
    "    \n",
    "    return X, y\n",
    "\n",
    "    #df.sample(n=5)"
   ]
  },
  {
   "cell_type": "code",
   "execution_count": 22,
   "metadata": {},
   "outputs": [
    {
     "name": "stdout",
     "output_type": "stream",
     "text": [
      "**** 16:30:23  to  16:32:00 **** ['TASTE', 'WORLD NEWS', 'SCIENCE', 'STYLE', 'RELIGON', 'WORLDPSOT'] Test Size: 0.95 Epochs: 3\n",
      "**** 16:30:23  to  16:33:39 **** ['TASTE', 'WORLD NEWS', 'SCIENCE', 'STYLE', 'RELIGON', 'WORLDPSOT'] Test Size: 0.95 Epochs: 3\n",
      "**** 16:30:23  to  16:37:10 **** ['TASTE', 'WORLD NEWS', 'SCIENCE', 'STYLE', 'RELIGON', 'WORLDPSOT'] Test Size: 0.95 Epochs: 5\n"
     ]
    },
    {
     "name": "stderr",
     "output_type": "stream",
     "text": [
      "/home/ec2-user/anaconda3/envs/python3/lib/python3.6/site-packages/numpy/core/_methods.py:140: RuntimeWarning: Degrees of freedom <= 0 for slice\n",
      "  keepdims=keepdims)\n",
      "/home/ec2-user/anaconda3/envs/python3/lib/python3.6/site-packages/numpy/core/_methods.py:110: RuntimeWarning: invalid value encountered in true_divide\n",
      "  arrmean, rcount, out=arrmean, casting='unsafe', subok=False)\n",
      "/home/ec2-user/anaconda3/envs/python3/lib/python3.6/site-packages/numpy/core/_methods.py:132: RuntimeWarning: invalid value encountered in double_scalars\n",
      "  ret = ret.dtype.type(ret / rcount)\n"
     ]
    },
    {
     "name": "stdout",
     "output_type": "stream",
     "text": [
      "**** 16:30:23  to  16:37:42 **** ['TASTE', 'WORLD NEWS', 'SCIENCE', 'STYLE', 'RELIGON', 'WORLDPSOT'] Test Size: 0.95 Epochs: 1\n",
      "**** 16:39:23  to  16:41:35 **** ['EDUCATION', 'CULTURE & ARTS', 'ENVIRONMENT', 'GOOD NEWS', 'FIFTY', 'TECH'] Test Size: 0.95 Epochs: 4\n",
      "**** 16:39:23  to  16:43:07 **** ['EDUCATION', 'CULTURE & ARTS', 'ENVIRONMENT', 'GOOD NEWS', 'FIFTY', 'TECH'] Test Size: 0.95 Epochs: 3\n",
      "**** 16:39:23  to  16:45:10 **** ['EDUCATION', 'CULTURE & ARTS', 'ENVIRONMENT', 'GOOD NEWS', 'FIFTY', 'TECH'] Test Size: 0.95 Epochs: 4\n",
      "**** 16:39:23  to  16:49:33 **** ['EDUCATION', 'CULTURE & ARTS', 'ENVIRONMENT', 'GOOD NEWS', 'FIFTY', 'TECH'] Test Size: 0.95 Epochs: 6\n",
      "Total Time: (in minute) 20.72\n"
     ]
    }
   ],
   "source": [
    "df_test_size = pd.DataFrame(columns=['num_of_ngrams','Test Size','Labels','Labelled','Unlabelled','Total Coverage','Coverage Percentage','Correct Coverage','Correct Percentage','Coverage STD'])\n",
    "\n",
    "i = 0\n",
    "\n",
    "init_time = datetime.now()\n",
    "\n",
    "for labels in label_combs:\n",
    "        \n",
    "    X, y = get_data(df, labels)\n",
    "        \n",
    "    #for test_size in [0.5, 0.55, 0.6, 0.65, 0.7, 0.75, 0.8, 0.85, 0.9, 0.95, 0.96, 0.97, 0.98, 0.99]:\n",
    "    for test_size in [0.95]:\n",
    "        \n",
    "        s_time = datetime.now().strftime('%H:%M:%S')\n",
    "\n",
    "        X_train, X_test, y_train, y_test = train_test_split(X, y, test_size=test_size, random_state=42, stratify=y)\n",
    "\n",
    "        df_train = pd.DataFrame(columns=['Label', 'Lem Content'])\n",
    "\n",
    "        df_train['Lem Content'] = X_train\n",
    "        df_train['Label'] = y_train\n",
    "        df_train = df_train.groupby(df_train['Label']).sum().reset_index()\n",
    "\n",
    "        \n",
    "        df_test = pd.DataFrame(columns=['Lem Content','LFs','Label','Actual Label'])\n",
    "\n",
    "        df_test['Lem Content'] = X_test\n",
    "        df_test['Actual Label'] = y_test\n",
    "        \n",
    "        Bad_dict = {}\n",
    "        LF_dict = {}\n",
    "        num_of_labels = len(labels)\n",
    "        \n",
    "        for num_of_ngrams in [4,8,12,16]:\n",
    "\n",
    "            Total, Cor, epoch = run(df_train, df_test, num_of_labels, 3, num_of_ngrams)\n",
    "\n",
    "            new_labelled = list(df_test[df_test['Label'] != '']['Label'].value_counts())\n",
    "            \n",
    "            try:\n",
    "                std = np.std(new_labelled) #std = sqrt(mean(abs(x - x.mean())**2)).\n",
    "            except:\n",
    "                std = 0\n",
    "            \n",
    "            try:\n",
    "                CorrectCOV = Cor/Total\n",
    "            except:\n",
    "                CorrectCOV = 0\n",
    "\n",
    "            df_test_size.loc[i] = [num_of_ngrams,test_size,str(labels),len(X_train),len(X_test),Total,Total/len(y),Cor,CorrectCOV,std]\n",
    "\n",
    "            e_time = datetime.now().strftime('%H:%M:%S')\n",
    "\n",
    "            print(\"****\",s_time,\" to \",e_time,\"****\",labels,\"Test Size:\",test_size,\"Epochs:\",epoch)\n",
    "            i += 1\n",
    "\n",
    "final_time = datetime.now()\n",
    "\n",
    "print(\"Total Time: (in minute)\", round((final_time - init_time)/timedelta(minutes=1),2))\n",
    "\n",
    "    #plot progress graph per label selection combination"
   ]
  },
  {
   "cell_type": "code",
   "execution_count": 23,
   "metadata": {},
   "outputs": [],
   "source": [
    "df_average = df_test_size.groupby('num_of_ngrams').sum()\n",
    "df_average /= 2"
   ]
  },
  {
   "cell_type": "code",
   "execution_count": 24,
   "metadata": {},
   "outputs": [
    {
     "name": "stdout",
     "output_type": "stream",
     "text": [
      "Coverage STD by Test Size\n"
     ]
    },
    {
     "data": {
      "text/plain": [
       "<matplotlib.legend.Legend at 0x7fb7d32f9978>"
      ]
     },
     "execution_count": 24,
     "metadata": {},
     "output_type": "execute_result"
    }
   ],
   "source": [
    "from matplotlib.ticker import MaxNLocator\n",
    "import matplotlib.pyplot as plt\n",
    "print(\"Coverage STD by Test Size\")\n",
    "\n",
    "plt = pd.pivot_table(data=df_test_size, \n",
    "               values=\"Coverage STD\",\n",
    "               columns=\"Labels\",index=\"num_of_ngrams\").plot(marker='o')\n",
    "plt.xaxis.set_major_locator(MaxNLocator(integer=True))\n",
    "plt.legend(loc='upper right',bbox_to_anchor=(3, 1))"
   ]
  },
  {
   "cell_type": "code",
   "execution_count": 25,
   "metadata": {},
   "outputs": [
    {
     "name": "stdout",
     "output_type": "stream",
     "text": [
      "Average Coverage STD\n"
     ]
    },
    {
     "data": {
      "image/png": "[encoded data removed]",
      "text/plain": [
       "<Figure size 432x288 with 1 Axes>"
      ]
     },
     "metadata": {},
     "output_type": "display_data"
    }
   ],
   "source": [
    "print(\"Average Coverage STD\")\n",
    "plt2 = df_average['Coverage STD'].plot(marker='o')\n",
    "plt2.xaxis.set_major_locator(MaxNLocator(integer=True))"
   ]
  },
  {
   "cell_type": "code",
   "execution_count": 26,
   "metadata": {},
   "outputs": [
    {
     "name": "stdout",
     "output_type": "stream",
     "text": [
      "Coverage Percentage by Test Size\n"
     ]
    },
    {
     "data": {
      "text/plain": [
       "<matplotlib.legend.Legend at 0x7fb7d303f4e0>"
      ]
     },
     "execution_count": 26,
     "metadata": {},
     "output_type": "execute_result"
    },
    {
     "data": {
      "image/png": "[encoded data removed]",
      "text/plain": [
       "<Figure size 432x288 with 1 Axes>"
      ]
     },
     "metadata": {},
     "output_type": "display_data"
    }
   ],
   "source": [
    "print(\"Coverage Percentage by Test Size\")\n",
    "plt3 = pd.pivot_table(data=df_test_size, \n",
    "               values=\"Coverage Percentage\",\n",
    "               columns=\"Labels\",index=\"num_of_ngrams\").plot(marker='o')\n",
    "plt3.xaxis.set_major_locator(MaxNLocator(integer=True))\n",
    "plt3.legend(loc='upper right',bbox_to_anchor=(3, 1))"
   ]
  },
  {
   "cell_type": "code",
   "execution_count": 27,
   "metadata": {},
   "outputs": [
    {
     "name": "stdout",
     "output_type": "stream",
     "text": [
      "Average Coverage Percentage\n"
     ]
    },
    {
     "data": {
      "image/png": "[encoded data removed]",
      "text/plain": [
       "<Figure size 432x288 with 1 Axes>"
      ]
     },
     "metadata": {},
     "output_type": "display_data"
    }
   ],
   "source": [
    "print(\"Average Coverage Percentage\")\n",
    "plt4 = df_average['Coverage Percentage'].plot(marker='o')\n",
    "plt4.xaxis.set_major_locator(MaxNLocator(integer=True))"
   ]
  },
  {
   "cell_type": "code",
   "execution_count": 28,
   "metadata": {},
   "outputs": [
    {
     "name": "stdout",
     "output_type": "stream",
     "text": [
      "Correct Percentage by Test Size\n"
     ]
    },
    {
     "data": {
      "text/plain": [
       "<matplotlib.legend.Legend at 0x7fb7d2f737f0>"
      ]
     },
     "execution_count": 28,
     "metadata": {},
     "output_type": "execute_result"
    },
    {
     "data": {
      "image/png": "[encoded data removed]",
      "text/plain": [
       "<Figure size 432x288 with 1 Axes>"
      ]
     },
     "metadata": {},
     "output_type": "display_data"
    }
   ],
   "source": [
    "print(\"Correct Percentage by Test Size\")\n",
    "plt5 = pd.pivot_table(data=df_test_size, \n",
    "               values=\"Correct Percentage\",\n",
    "               columns=\"Labels\",index=\"num_of_ngrams\").plot(marker='o')\n",
    "plt5.xaxis.set_major_locator(MaxNLocator(integer=True))\n",
    "plt5.legend(loc='upper right',bbox_to_anchor=(3, 1))"
   ]
  },
  {
   "cell_type": "code",
   "execution_count": 29,
   "metadata": {},
   "outputs": [
    {
     "name": "stdout",
     "output_type": "stream",
     "text": [
      "Average Coverage Percentage\n"
     ]
    },
    {
     "data": {
      "image/png": "[encoded data removed]",
      "text/plain": [
       "<Figure size 432x288 with 1 Axes>"
      ]
     },
     "metadata": {},
     "output_type": "display_data"
    }
   ],
   "source": [
    "print(\"Average Coverage Percentage\")\n",
    "plt6 = df_average['Correct Percentage'].plot(marker='o')\n",
    "plt6.xaxis.set_major_locator(MaxNLocator(integer=True))"
   ]
  },
  {
   "cell_type": "code",
   "execution_count": 26,
   "metadata": {},
   "outputs": [],
   "source": [
    "# df_test_size.to_pickle(\"/Users/yayan/Desktop/df_test_size_4_good.pkl\")"
   ]
  },
  {
   "cell_type": "code",
   "execution_count": 27,
   "metadata": {},
   "outputs": [],
   "source": [
    "# import pickle\n",
    "\n",
    "\n",
    "# with open('/Users/yayan/Desktop/df_test_size_4_good.pkl', 'rb') as f:\n",
    "#     data = pickle.load(f)"
   ]
  }
 ],
 "metadata": {
  "kernelspec": {
   "display_name": "conda_python3",
   "language": "python",
   "name": "conda_python3"
  },
  "language_info": {
   "codemirror_mode": {
    "name": "ipython",
    "version": 3
   },
   "file_extension": ".py",
   "mimetype": "text/x-python",
   "name": "python",
   "nbconvert_exporter": "python",
   "pygments_lexer": "ipython3",
   "version": "3.6.5"
  }
 },
 "nbformat": 4,
 "nbformat_minor": 2
}
